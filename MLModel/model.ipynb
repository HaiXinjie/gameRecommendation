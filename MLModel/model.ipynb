{
 "cells": [
  {
   "cell_type": "markdown",
   "id": "f9b6c99e452ce4d8",
   "metadata": {
    "collapsed": false
   },
   "source": [
    "# Construct datasets"
   ]
  },
  {
   "cell_type": "code",
   "execution_count": 1,
   "id": "cb4422c624873841",
   "metadata": {
    "ExecuteTime": {
     "end_time": "2024-01-28T04:17:31.597698700Z",
     "start_time": "2024-01-28T04:17:29.686684600Z"
    },
    "collapsed": false
   },
   "outputs": [],
   "source": [
    "import csv\n",
    "import json\n",
    "\n",
    "import pandas as pd\n",
    "from surprise import (\n",
    "    Dataset,\n",
    "    Reader,\n",
    "    KNNBasic,\n",
    ")\n",
    "from surprise.model_selection import (\n",
    "    train_test_split,\n",
    ")\n",
    "from surprise.accuracy import rmse"
   ]
  },
  {
   "cell_type": "code",
   "execution_count": 2,
   "id": "6a4b01f7694441db",
   "metadata": {
    "ExecuteTime": {
     "end_time": "2024-01-28T04:17:31.609699200Z",
     "start_time": "2024-01-28T04:17:31.553641400Z"
    },
    "collapsed": false
   },
   "outputs": [],
   "source": [
    "def load_reviews(path: str):\n",
    "    \"\"\"\n",
    "    read user-item rating\n",
    "    :param path: \n",
    "    :return: \n",
    "    \"\"\"\n",
    "    review_dict = {\n",
    "        'itemID': [],\n",
    "        'userID': [],\n",
    "        'rating': []\n",
    "    }\n",
    "    with open(path, 'r', encoding='utf-8') as f:\n",
    "        csv_reader = csv.reader(f)\n",
    "        for i, row in enumerate(csv_reader):\n",
    "            if i==0:\n",
    "                continue\n",
    "            review_dict['itemID'].append(row[0])\n",
    "            review_dict['userID'].append(row[-2])\n",
    "            is_recommended = row[4]\n",
    "            review_dict['rating'].append(2 if is_recommended == 'true' else 1)\n",
    "    df = pd.DataFrame(review_dict)\n",
    "    return df #\n",
    "\n",
    "\n",
    "def load_games(path: str, positive_ratio_threshold: float = 70):\n",
    "    \"\"\"\n",
    "    Read game information\n",
    "    :param path: \n",
    "    :param positive_ratio_threshold: \n",
    "    :return: \n",
    "    \"\"\"\n",
    "    ret = []\n",
    "    with open(path, 'r', encoding='utf-8') as f:\n",
    "        csv_reader = csv.reader(f)\n",
    "        for i, row in enumerate(csv_reader):\n",
    "            if i==0: \n",
    "                continue\n",
    "            positive_ratio = float(row[7])\n",
    "            if positive_ratio >= positive_ratio_threshold:\n",
    "                ret.append(\n",
    "                    {\n",
    "                        'app_id': row[0],\n",
    "                        'title': row[1],\n",
    "                        'rating': row[6],\n",
    "                        'positive_ratio': row[7],\n",
    "                    }\n",
    "                )\n",
    "    return ret"
   ]
  },
  {
   "cell_type": "code",
   "execution_count": 3,
   "id": "5615396e02f92de2",
   "metadata": {
    "ExecuteTime": {
     "end_time": "2024-01-28T04:21:30.588032700Z",
     "start_time": "2024-01-28T04:17:31.571641800Z"
    },
    "collapsed": false
   },
   "outputs": [],
   "source": [
    "reviews_df = load_reviews('data/recommendations.csv')\n",
    "games = load_games('data/games.csv', positive_ratio_threshold=75)\n",
    "reviews_df = reviews_df[\n",
    "    reviews_df['itemID'].isin([game['app_id'] for game in games])\n",
    "] \n",
    "reader = Reader(rating_scale=(1, 2))\n",
    "reviews_dataset = Dataset.load_from_df(\n",
    "    reviews_df[['userID', 'itemID', 'rating']],\n",
    "    reader\n",
    ")\n",
    "train, test = train_test_split(reviews_dataset, test_size=.2)"
   ]
  },
  {
   "cell_type": "code",
   "execution_count": 4,
   "id": "dd7126551f0416b0",
   "metadata": {
    "ExecuteTime": {
     "end_time": "2024-01-28T04:32:44.856483800Z",
     "start_time": "2024-01-28T04:32:44.847483Z"
    },
    "collapsed": false
   },
   "outputs": [
    {
     "name": "stdout",
     "output_type": "stream",
     "text": [
      "[games] len: 32567\n"
     ]
    }
   ],
   "source": [
    "print('[games] len: {}'.format(len(games)))"
   ]
  },
  {
   "cell_type": "markdown",
   "id": "2038a48a5f86dcd4",
   "metadata": {
    "collapsed": false
   },
   "source": [
    "# Build the training model"
   ]
  },
  {
   "cell_type": "code",
   "execution_count": 5,
   "id": "ac11b32a70d38e5d",
   "metadata": {
    "ExecuteTime": {
     "end_time": "2024-01-28T04:47:23.003201700Z",
     "start_time": "2024-01-28T04:32:47.928389300Z"
    },
    "collapsed": false
   },
   "outputs": [
    {
     "name": "stdout",
     "output_type": "stream",
     "text": [
      "Computing the cosine similarity matrix...\n",
      "Done computing similarity matrix.\n",
      "RMSE: 0.3264\n"
     ]
    }
   ],
   "source": [
    "N_NEIGHBORS = 5\n",
    "\n",
    "sim_options = {\n",
    "    \"name\": \"cosine\",  # sim_options(dict): A dictionary of options for the similarity measure. Here we choose cosine\n",
    "    \"user_based\": False,  # item-based\n",
    "}\n",
    "\n",
    "model = KNNBasic(k=N_NEIGHBORS, sim_options=sim_options)\n",
    "model.fit(train)\n",
    "preditions = model.test(test)\n",
    "model_rmse = rmse(preditions)"
   ]
  },
  {
   "cell_type": "code",
   "execution_count": 6,
   "id": "62972fb9b4de660e",
   "metadata": {
    "ExecuteTime": {
     "end_time": "2024-01-28T04:51:27.050483200Z",
     "start_time": "2024-01-28T04:47:37.442964400Z"
    },
    "collapsed": false
   },
   "outputs": [],
   "source": [
    "# Calculate the top N similar items for each item\n",
    "top_n_neighbors = {}\n",
    "for i, inner_id in enumerate(model.trainset.all_items()):\n",
    "    raw_id = model.trainset.to_raw_iid(inner_id)\n",
    "    neighbors = model.get_neighbors(inner_id, k=N_NEIGHBORS)\n",
    "    top_n_neighbors[raw_id] = [model.trainset.to_raw_iid(neighbor) for neighbor in neighbors]\n",
    "\n",
    "# save top_n_neighbors\n",
    "with open('data/top_n_neighbors.json', 'w', encoding='utf-8') as f:\n",
    "    json.dump(top_n_neighbors, f, ensure_ascii=False, indent=4)"
   ]
  },
  {
   "cell_type": "code",
   "execution_count": 7,
   "id": "ce345809a7dc6d54",
   "metadata": {
    "ExecuteTime": {
     "end_time": "2024-01-28T04:54:47.715036100Z",
     "start_time": "2024-01-28T04:54:47.707037400Z"
    },
    "collapsed": false
   },
   "outputs": [],
   "source": [
    "\n",
    "def recommend(user_id: str, top_n: int = 10):\n",
    "    \"\"\"\n",
    "    recommend\n",
    "    :param user_id: \n",
    "    :param top_n: \n",
    "    :return: \n",
    "    \"\"\"\n",
    "    game_ids = [game['app_id'] for game in games]\n",
    "    # Get user rated items\n",
    "    user_items = reviews_df[reviews_df['userID'] == user_id]['itemID'].tolist()\n",
    "    if len(user_items) == 0:\n",
    "        # If user has not rated any item \n",
    "        sorted_games = sorted(games, key=lambda x: x['positive_ratio'] * x['rating'], reverse=True)\n",
    "        return [game['app_id'] for game in sorted_games[:top_n]]\n",
    "    # Get the top N similar items to the item rated by the users\n",
    "    top_n_items = []\n",
    "    for user_item in user_items:\n",
    "        neighbor_list = top_n_neighbors.get(user_item, [])\n",
    "        for neighbor in neighbor_list:\n",
    "            if neighbor not in user_items and neighbor in game_ids:\n",
    "                top_n_items.append(neighbor)\n",
    "    top_n_items = list(set(top_n_items))\n",
    "    return top_n_items[:top_n]\n"
   ]
  },
  {
   "cell_type": "code",
   "execution_count": 8,
   "id": "590fe836da586bd7",
   "metadata": {
    "ExecuteTime": {
     "end_time": "2024-01-28T04:55:08.059309800Z",
     "start_time": "2024-01-28T04:54:48.724090500Z"
    },
    "collapsed": false
   },
   "outputs": [
    {
     "name": "stdout",
     "output_type": "stream",
     "text": [
      "[推荐过的游戏]\n",
      "{'app_id': '975370', 'title': 'Dwarf Fortress', 'rating': 'Overwhelmingly Positive', 'positive_ratio': '95'}\n",
      "{'app_id': '1817190', 'title': 'Marvel’s Spider-Man: Miles Morales', 'rating': 'Very Positive', 'positive_ratio': '94'}\n",
      "{'app_id': '1649080', 'title': 'Two Point Campus', 'rating': 'Very Positive', 'positive_ratio': '88'}\n",
      "{'app_id': '590380', 'title': 'Into the Breach', 'rating': 'Very Positive', 'positive_ratio': '94'}\n",
      "{'app_id': '379720', 'title': 'DOOM', 'rating': 'Overwhelmingly Positive', 'positive_ratio': '95'}\n",
      "[模型推荐列表]\n",
      "{'app_id': '1173510', 'title': 'XSOverlay', 'rating': 'Very Positive', 'positive_ratio': '91'}\n",
      "{'app_id': '1766580', 'title': 'Diptych', 'rating': 'Positive', 'positive_ratio': '95'}\n",
      "{'app_id': '1481400', 'title': 'Dagon: by H. P. Lovecraft', 'rating': 'Overwhelmingly Positive', 'positive_ratio': '96'}\n",
      "{'app_id': '206190', 'title': 'Gunpoint', 'rating': 'Overwhelmingly Positive', 'positive_ratio': '97'}\n",
      "{'app_id': '421660', 'title': 'Harmonia', 'rating': 'Overwhelmingly Positive', 'positive_ratio': '95'}\n",
      "{'app_id': '986800', 'title': 'AVICII Invector', 'rating': 'Overwhelmingly Positive', 'positive_ratio': '97'}\n",
      "{'app_id': '774461', 'title': 'The Jackbox Party Pack 5', 'rating': 'Very Positive', 'positive_ratio': '93'}\n",
      "{'app_id': '239120', 'title': 'Final Fantasy III (3D Remake)', 'rating': 'Very Positive', 'positive_ratio': '82'}\n",
      "{'app_id': '816720', 'title': 'Bugs Must Die / 异星特勤队', 'rating': 'Very Positive', 'positive_ratio': '87'}\n",
      "{'app_id': '449540', 'title': \"There's Poop In My Soup\", 'rating': 'Very Positive', 'positive_ratio': '89'}\n"
     ]
    }
   ],
   "source": [
    "# test\n",
    "test_user_id = '51580'\n",
    "game_dict = {game['app_id']: game for game in games}\n",
    "recommend_list = recommend(test_user_id)\n",
    "print('[Recommended Games]')\n",
    "for item in reviews_df[reviews_df['userID'] == test_user_id]['itemID'].tolist():\n",
    "    print(game_dict[item])\n",
    "print('[Model Recommendation List]')\n",
    "for item in recommend_list:\n",
    "    print(game_dict[item])"
   ]
  },
  {
   "cell_type": "code",
   "execution_count": null,
   "id": "6eded7644a5a3a43",
   "metadata": {
    "collapsed": false
   },
   "outputs": [],
   "source": []
  }
 ],
 "metadata": {
  "kernelspec": {
   "display_name": "Python 3",
   "language": "python",
   "name": "python3"
  },
  "language_info": {
   "codemirror_mode": {
    "name": "ipython",
    "version": 3
   },
   "file_extension": ".py",
   "mimetype": "text/x-python",
   "name": "python",
   "nbconvert_exporter": "python",
   "pygments_lexer": "ipython3",
   "version": "3.11.0"
  }
 },
 "nbformat": 4,
 "nbformat_minor": 5
}
