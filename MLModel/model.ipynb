{
 "cells": [
  {
   "cell_type": "markdown",
   "id": "f9b6c99e452ce4d8",
   "metadata": {
    "collapsed": false
   },
   "source": [
    "# Construct datasets"
   ]
  },
  {
   "cell_type": "code",
   "execution_count": 44,
   "id": "cb4422c624873841",
   "metadata": {
    "ExecuteTime": {
     "end_time": "2024-01-31T03:46:53.029832Z",
     "start_time": "2024-01-31T03:46:53.014812600Z"
    },
    "collapsed": false
   },
   "outputs": [],
   "source": [
    "import csv\n",
    "import json\n",
    "import random as rd\n",
    "\n",
    "\n",
    "import pandas as pd\n",
    "from surprise import (\n",
    "    Dataset,\n",
    "    Reader,\n",
    "    KNNBasic,\n",
    ")\n",
    "from surprise.model_selection import (\n",
    "    train_test_split,\n",
    ")\n",
    "from surprise.accuracy import rmse"
   ]
  },
  {
   "cell_type": "code",
   "execution_count": 45,
   "id": "6a4b01f7694441db",
   "metadata": {
    "ExecuteTime": {
     "end_time": "2024-01-31T03:56:03.044409800Z",
     "start_time": "2024-01-31T03:56:03.033406Z"
    },
    "collapsed": false
   },
   "outputs": [],
   "source": [
    "def load_reviews(path: str):\n",
    "    \"\"\"\n",
    "    read user-item rating\n",
    "    :param path: \n",
    "    :return: \n",
    "    \"\"\"\n",
    "    review_dict = {\n",
    "        'itemID': [],\n",
    "        'userID': [],\n",
    "        'rating': []\n",
    "    }\n",
    "    with open(path, 'r', encoding='utf-8') as f:\n",
    "        csv_reader = csv.reader(f)\n",
    "        for i, row in enumerate(csv_reader):\n",
    "            if not i:\n",
    "                continue\n",
    "            review_dict['itemID'].append(row[0])\n",
    "            review_dict['userID'].append(row[1])\n",
    "            is_recommended = row[2]\n",
    "            review_dict['rating'].append(2 if is_recommended == 'True' else 1)\n",
    "    df = pd.DataFrame(review_dict)\n",
    "    return df\n",
    "\n",
    "\n",
    "def load_games(path: str):\n",
    "    \"\"\"\n",
    "    Read game information\n",
    "    :param path: \n",
    "    :param positive_ratio_threshold: \n",
    "    :return: \n",
    "    \"\"\"\n",
    "    ret = []\n",
    "    with open(path, 'r', encoding='utf-8') as f:\n",
    "        csv_reader = csv.reader(f)\n",
    "        for i, row in enumerate(csv_reader):\n",
    "            if not i:\n",
    "                continue\n",
    "            ret.append(\n",
    "                {\n",
    "                    'app_id': row[0],\n",
    "                    'title': row[1],\n",
    "                    'rating': row[-1],\n",
    "                }\n",
    "            )\n",
    "    return ret"
   ]
  },
  {
   "cell_type": "code",
   "execution_count": 46,
   "id": "5615396e02f92de2",
   "metadata": {
    "ExecuteTime": {
     "end_time": "2024-01-31T03:56:03.793661200Z",
     "start_time": "2024-01-31T03:56:03.770158500Z"
    },
    "collapsed": false
   },
   "outputs": [],
   "source": [
    "reviews_df = load_reviews('data/user_recommendations_subset.csv')\n",
    "games = load_games('data/game_details_subset.csv')\n",
    "reviews_df = reviews_df[\n",
    "    reviews_df['itemID'].isin([game['app_id'] for game in games])\n",
    "]\n",
    "reader = Reader(rating_scale=(1, 2))\n",
    "reviews_dataset = Dataset.load_from_df(\n",
    "    reviews_df[['userID', 'itemID', 'rating']],\n",
    "    reader\n",
    ")\n",
    "train, test = train_test_split(reviews_dataset, test_size=0.2)"
   ]
  },
  {
   "cell_type": "code",
   "execution_count": 47,
   "id": "dd7126551f0416b0",
   "metadata": {
    "ExecuteTime": {
     "end_time": "2024-01-31T03:56:04.314243Z",
     "start_time": "2024-01-31T03:56:04.268045700Z"
    },
    "collapsed": false
   },
   "outputs": [
    {
     "name": "stdout",
     "output_type": "stream",
     "text": [
      "[games] len: 50\n"
     ]
    },
    {
     "data": {
      "text/html": [
       "<div>\n",
       "<style scoped>\n",
       "    .dataframe tbody tr th:only-of-type {\n",
       "        vertical-align: middle;\n",
       "    }\n",
       "\n",
       "    .dataframe tbody tr th {\n",
       "        vertical-align: top;\n",
       "    }\n",
       "\n",
       "    .dataframe thead th {\n",
       "        text-align: right;\n",
       "    }\n",
       "</style>\n",
       "<table border=\"1\" class=\"dataframe\">\n",
       "  <thead>\n",
       "    <tr style=\"text-align: right;\">\n",
       "      <th></th>\n",
       "      <th>itemID</th>\n",
       "      <th>userID</th>\n",
       "      <th>rating</th>\n",
       "    </tr>\n",
       "  </thead>\n",
       "  <tbody>\n",
       "    <tr>\n",
       "      <th>0</th>\n",
       "      <td>431960</td>\n",
       "      <td>8588767</td>\n",
       "      <td>2</td>\n",
       "    </tr>\n",
       "    <tr>\n",
       "      <th>1</th>\n",
       "      <td>374320</td>\n",
       "      <td>3635265</td>\n",
       "      <td>1</td>\n",
       "    </tr>\n",
       "    <tr>\n",
       "      <th>2</th>\n",
       "      <td>292030</td>\n",
       "      <td>9320019</td>\n",
       "      <td>2</td>\n",
       "    </tr>\n",
       "    <tr>\n",
       "      <th>3</th>\n",
       "      <td>550</td>\n",
       "      <td>7609653</td>\n",
       "      <td>2</td>\n",
       "    </tr>\n",
       "    <tr>\n",
       "      <th>4</th>\n",
       "      <td>292030</td>\n",
       "      <td>8543862</td>\n",
       "      <td>2</td>\n",
       "    </tr>\n",
       "    <tr>\n",
       "      <th>...</th>\n",
       "      <td>...</td>\n",
       "      <td>...</td>\n",
       "      <td>...</td>\n",
       "    </tr>\n",
       "    <tr>\n",
       "      <th>604</th>\n",
       "      <td>377160</td>\n",
       "      <td>6612917</td>\n",
       "      <td>2</td>\n",
       "    </tr>\n",
       "    <tr>\n",
       "      <th>605</th>\n",
       "      <td>292030</td>\n",
       "      <td>13326161</td>\n",
       "      <td>2</td>\n",
       "    </tr>\n",
       "    <tr>\n",
       "      <th>606</th>\n",
       "      <td>377160</td>\n",
       "      <td>13326161</td>\n",
       "      <td>2</td>\n",
       "    </tr>\n",
       "    <tr>\n",
       "      <th>607</th>\n",
       "      <td>377160</td>\n",
       "      <td>5433546</td>\n",
       "      <td>2</td>\n",
       "    </tr>\n",
       "    <tr>\n",
       "      <th>608</th>\n",
       "      <td>377160</td>\n",
       "      <td>3635265</td>\n",
       "      <td>2</td>\n",
       "    </tr>\n",
       "  </tbody>\n",
       "</table>\n",
       "<p>609 rows × 3 columns</p>\n",
       "</div>"
      ],
      "text/plain": [
       "     itemID    userID  rating\n",
       "0    431960   8588767       2\n",
       "1    374320   3635265       1\n",
       "2    292030   9320019       2\n",
       "3       550   7609653       2\n",
       "4    292030   8543862       2\n",
       "..      ...       ...     ...\n",
       "604  377160   6612917       2\n",
       "605  292030  13326161       2\n",
       "606  377160  13326161       2\n",
       "607  377160   5433546       2\n",
       "608  377160   3635265       2\n",
       "\n",
       "[609 rows x 3 columns]"
      ]
     },
     "execution_count": 47,
     "metadata": {},
     "output_type": "execute_result"
    }
   ],
   "source": [
    "print('[games] len: {}'.format(len(games)))\n",
    "\n",
    "reviews_df"
   ]
  },
  {
   "cell_type": "markdown",
   "id": "2038a48a5f86dcd4",
   "metadata": {
    "collapsed": false
   },
   "source": [
    "# Build the training model"
   ]
  },
  {
   "cell_type": "code",
   "execution_count": 48,
   "id": "ac11b32a70d38e5d",
   "metadata": {
    "ExecuteTime": {
     "end_time": "2024-01-31T03:56:07.184445700Z",
     "start_time": "2024-01-31T03:56:07.161674500Z"
    },
    "collapsed": false
   },
   "outputs": [
    {
     "name": "stdout",
     "output_type": "stream",
     "text": [
      "Computing the cosine similarity matrix...\n",
      "Done computing similarity matrix.\n",
      "Computing the cosine similarity matrix...\n",
      "Done computing similarity matrix.\n"
     ]
    }
   ],
   "source": [
    "N_NEIGHBORS = 5\n",
    "\n",
    "sim_options = {\n",
    "    \"name\": \"cosine\",  # sim_options(dict): A dictionary of options for the similarity measure. Here we choose cosine\n",
    "    \"user_based\": False,  # item-based\n",
    "}\n",
    "\n",
    "model = KNNBasic(k=N_NEIGHBORS, sim_options=sim_options)\n",
    "model.fit(train)\n",
    "\n",
    "# save similiarity matrix to csv file\n",
    "sim_matrix = model.compute_similarities()\n",
    "sim_matrix_df = pd.DataFrame(sim_matrix)\n",
    "\n",
    "raw_iids = [model.trainset.to_raw_iid(inner_id) for inner_id in range(sim_matrix_df.shape[0])]\n",
    "sim_matrix_df.columns = raw_iids\n",
    "sim_matrix_df.index = raw_iids\n",
    "sim_matrix_df.to_csv('data/sim_matrix.csv', index=True)"
   ]
  },
  {
   "cell_type": "code",
   "execution_count": 49,
   "id": "62972fb9b4de660e",
   "metadata": {
    "ExecuteTime": {
     "end_time": "2024-01-31T03:56:07.757778300Z",
     "start_time": "2024-01-31T03:56:07.736757100Z"
    },
    "collapsed": false
   },
   "outputs": [],
   "source": [
    "# Calculate the top N similar items for each item\n",
    "top_n_neighbors = {}\n",
    "for i, inner_id in enumerate(model.trainset.all_items()):\n",
    "    raw_id = model.trainset.to_raw_iid(inner_id)\n",
    "    neighbors = model.get_neighbors(inner_id, k=N_NEIGHBORS)\n",
    "    top_n_neighbors[raw_id] = [model.trainset.to_raw_iid(neighbor) for neighbor in neighbors]\n",
    "\n",
    "# save top_n_neighbors into a Json file\n",
    "with open('data/top_n_neighbors.json', 'w', encoding='utf-8') as f:\n",
    "    json.dump(top_n_neighbors, f, ensure_ascii=False, indent=4)\n",
    "\n",
    "# load json file\n",
    "top_n_neighbors = json.load(open('data/top_n_neighbors.json', 'r', encoding='utf-8'))"
   ]
  },
  {
   "cell_type": "code",
   "execution_count": 50,
   "id": "ce345809a7dc6d54",
   "metadata": {
    "ExecuteTime": {
     "end_time": "2024-01-31T03:56:08.313766300Z",
     "start_time": "2024-01-31T03:56:08.298088700Z"
    },
    "collapsed": false
   },
   "outputs": [],
   "source": [
    "\n",
    "def recommend(user_id: str, top_n: int = 10):\n",
    "    \"\"\"\n",
    "    recommend\n",
    "    :param user_id: \n",
    "    :param top_n: \n",
    "    :return: \n",
    "    \"\"\"\n",
    "    game_ids = [game['app_id'] for game in games]\n",
    "    # Get user rated items\n",
    "    user_items = reviews_df[reviews_df['userID'] == user_id]['itemID'].tolist()\n",
    "    if len(user_items) == 0:\n",
    "        # If user has not rated any item \n",
    "        sorted_games = sorted(games, key=lambda x: x['rating'], reverse=True)\n",
    "        return [game['app_id'] for game in sorted_games[:top_n]]\n",
    "        #choices = rd.choices(sorted_games, k=top_n)\n",
    "        #return [game['app_id'] for game in choices]\n",
    "    # Get the top N similar items to the item rated by the users\n",
    "    top_n_items = []\n",
    "    for user_item in user_items:\n",
    "        neighbor_list = top_n_neighbors.get(user_item, [])\n",
    "        for neighbor in neighbor_list:\n",
    "            if neighbor not in user_items and neighbor in game_ids:\n",
    "                top_n_items.append(neighbor)\n",
    "    top_n_items = list(set(top_n_items))\n",
    "    return top_n_items[:top_n]\n",
    "    #choices = rd.choices(top_n_items, k=top_n)\n",
    "    #return choices\n"
   ]
  },
  {
   "cell_type": "markdown",
   "id": "c1583f15",
   "metadata": {},
   "source": [
    "right now we recommend top-n games, we can also use the function random.choices() to randomly pick n recommendartions. \n",
    "random.choices(top_n_items, k=top_n) \n"
   ]
  },
  {
   "cell_type": "code",
   "execution_count": 52,
   "id": "590fe836da586bd7",
   "metadata": {
    "ExecuteTime": {
     "end_time": "2024-01-31T03:56:08.998802100Z",
     "start_time": "2024-01-31T03:56:08.988954600Z"
    },
    "collapsed": false
   },
   "outputs": [
    {
     "name": "stdout",
     "output_type": "stream",
     "text": [
      "[Recommended Games]\n",
      "374320\n",
      "271590\n",
      "578080\n",
      "292030\n",
      "359550\n",
      "275850\n",
      "291550\n",
      "381210\n",
      "1091500\n",
      "1172620\n",
      "431960\n",
      "252490\n",
      "230410\n",
      "239140\n",
      "444090\n",
      "49520\n",
      "322330\n",
      "242760\n",
      "251570\n",
      "550\n",
      "730\n",
      "221100\n",
      "489830\n",
      "346110\n",
      "582010\n",
      "570\n",
      "1085660\n",
      "4000\n",
      "1172470\n",
      "304930\n",
      "1063730\n",
      "440\n",
      "377160\n",
      "[Model Recommendation List]\n",
      "1174180\n",
      "620\n",
      "218620\n",
      "367520\n",
      "413150\n",
      "236390\n",
      "945360\n",
      "892970\n",
      "1245620\n",
      "227300\n"
     ]
    }
   ],
   "source": [
    "# testing\n",
    "test_user_id = '3635265'\n",
    "game_dict = {game['app_id']: game for game in games}\n",
    "recommend_list = recommend(test_user_id)\n",
    "print('[Recommended Games]')\n",
    "for item in reviews_df[reviews_df['userID'] == test_user_id]['itemID'].tolist():\n",
    "    print(item)\n",
    "print('[Model Recommendation List]')\n",
    "for item in recommend_list:\n",
    "    print(item)"
   ]
  },
  {
   "cell_type": "code",
   "execution_count": null,
   "id": "6eded7644a5a3a43",
   "metadata": {
    "collapsed": false
   },
   "outputs": [],
   "source": []
  }
 ],
 "metadata": {
  "kernelspec": {
   "display_name": "Python 3",
   "language": "python",
   "name": "python3"
  },
  "language_info": {
   "codemirror_mode": {
    "name": "ipython",
    "version": 3
   },
   "file_extension": ".py",
   "mimetype": "text/x-python",
   "name": "python",
   "nbconvert_exporter": "python",
   "pygments_lexer": "ipython3",
   "version": "3.11.0"
  }
 },
 "nbformat": 4,
 "nbformat_minor": 5
}
